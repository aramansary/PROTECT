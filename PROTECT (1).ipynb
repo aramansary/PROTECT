{
 "cells": [
  {
   "cell_type": "markdown",
   "id": "c93358f8-7c89-49db-ad0e-d375488845a6",
   "metadata": {},
   "source": [
    "# Import Required Libraries"
   ]
  },
  {
   "cell_type": "code",
   "execution_count": 1,
   "id": "224f89b9-0b6d-4da7-a010-558880f67c3d",
   "metadata": {},
   "outputs": [
    {
     "name": "stderr",
     "output_type": "stream",
     "text": [
      "/usr/local/lib/python3.7/site-packages/tqdm/auto.py:21: TqdmWarning: IProgress not found. Please update jupyter and ipywidgets. See https://ipywidgets.readthedocs.io/en/stable/user_install.html\n",
      "  from .autonotebook import tqdm as notebook_tqdm\n"
     ]
    }
   ],
   "source": [
    "import dadaptation\n",
    "import pandas as pd\n",
    "import numpy as np\n",
    "import os\n",
    "import matplotlib.pyplot as plt\n",
    "import math\n",
    "import torch\n",
    "import torch.nn as nn\n",
    "import torch.nn.init as init\n",
    "from torch.utils.data import Dataset, DataLoader, TensorDataset\n",
    "import torch.nn.functional as F\n",
    "import torch.optim as optim\n",
    "from sklearn.model_selection import train_test_split\n",
    "import pytorch_lightning as pl\n",
    "from pytorch_lightning import Trainer\n",
    "import random as rn\n",
    "import wandb\n",
    "import warnings\n",
    "from tqdm import tqdm\n",
    "\n",
    "#suppress warnings for cleaner output\n",
    "warnings.filterwarnings(\"ignore\")\n",
    "os.environ['TF_CPP_MIN_LOG_LEVEL'] = '3'\n",
    "\n",
    "#set random seeds for reproducibility\n",
    "torch.manual_seed(200)\n",
    "np.random.seed(1)\n",
    "rn.seed(400)\n"
   ]
  },
  {
   "cell_type": "markdown",
   "id": "a2fce9d8-b1ee-4d55-a26b-d1feef384784",
   "metadata": {},
   "source": [
    "# Read Processed Data"
   ]
  },
  {
   "cell_type": "code",
   "execution_count": 2,
   "id": "afd573fa-900b-4f6d-b580-2cfe68656706",
   "metadata": {},
   "outputs": [],
   "source": [
    "data = pd.read_csv(\"processed_dat.csv\")\n",
    "data = data.iloc[:, 1:] #extract relevant columns\n",
    "data = np.array(data).astype(float)\n"
   ]
  },
  {
   "cell_type": "markdown",
   "id": "0927089a-34c2-45b4-9354-def780f12615",
   "metadata": {},
   "source": [
    "# Define Custom Pytorch Dataset"
   ]
  },
  {
   "cell_type": "code",
   "execution_count": 3,
   "id": "daf260f6-86a7-46ef-bc7d-2b2ac4caabd5",
   "metadata": {},
   "outputs": [],
   "source": [
    "class ExpressionDataset(Dataset):\n",
    "    def __init__(self):\n",
    "        self.features = np.array(data)\n",
    "        \n",
    "    def __len__(self):\n",
    "        return len(self.features)\n",
    "\n",
    "    def __getitem__(self, idx):\n",
    "        features = torch.tensor(self.features[idx], dtype=torch.float32)\n",
    "        return features, features\n",
    "\n",
    "dataset = ExpressionDataset()\n",
    "datafeat = dataset.features\n",
    "data1 = np.array (datafeat)\n"
   ]
  },
  {
   "cell_type": "code",
   "execution_count": 4,
   "id": "bc825270-6d14-4260-9fda-6bddc5e04188",
   "metadata": {},
   "outputs": [],
   "source": [
    "batch_size = 16"
   ]
  },
  {
   "cell_type": "markdown",
   "id": "c4e5dc55-914a-46de-bad4-53b02d085335",
   "metadata": {},
   "source": [
    "# Greedy Layerwise Pre-training"
   ]
  },
  {
   "cell_type": "code",
   "execution_count": 5,
   "id": "108af618-a03e-4a6f-afdd-90000d9e26b1",
   "metadata": {},
   "outputs": [
    {
     "name": "stderr",
     "output_type": "stream",
     "text": [
      "GPU available: False, used: False\n",
      "TPU available: False, using: 0 TPU cores\n",
      "IPU available: False, using: 0 IPUs\n",
      "HPU available: False, using: 0 HPUs\n",
      "\n",
      "  | Name    | Type       | Params\n",
      "---------------------------------------\n",
      "0 | encoder | Sequential | 4.8 M \n",
      "1 | decoder | Sequential | 4.8 M \n",
      "---------------------------------------\n",
      "9.6 M     Trainable params\n",
      "0         Non-trainable params\n",
      "9.6 M     Total params\n",
      "38.307    Total estimated model params size (MB)\n"
     ]
    },
    {
     "name": "stdout",
     "output_type": "stream",
     "text": [
      "Epoch 6: 100%|██████████| 1/1 [00:00<00:00, 16.43it/s, loss=1.24, v_num=34, mse_loss_step=0.652, mse_loss_epoch=0.652]"
     ]
    },
    {
     "name": "stderr",
     "output_type": "stream",
     "text": [
      "`Trainer.fit` stopped: `max_epochs=7` reached.\n"
     ]
    },
    {
     "name": "stdout",
     "output_type": "stream",
     "text": [
      "Epoch 6: 100%|██████████| 1/1 [00:00<00:00,  3.48it/s, loss=1.24, v_num=34, mse_loss_step=0.652, mse_loss_epoch=0.652]"
     ]
    },
    {
     "name": "stderr",
     "output_type": "stream",
     "text": [
      "GPU available: False, used: False\n",
      "TPU available: False, using: 0 TPU cores\n",
      "IPU available: False, using: 0 IPUs\n",
      "HPU available: False, using: 0 HPUs\n",
      "\n",
      "  | Name    | Type       | Params\n",
      "---------------------------------------\n",
      "0 | encoder | Sequential | 2.1 M \n",
      "1 | decoder | Sequential | 2.1 M \n",
      "---------------------------------------\n",
      "4.2 M     Trainable params\n",
      "0         Non-trainable params\n",
      "4.2 M     Total params\n",
      "16.790    Total estimated model params size (MB)\n"
     ]
    },
    {
     "name": "stdout",
     "output_type": "stream",
     "text": [
      "\n",
      "Epoch 6: 100%|██████████| 1/1 [00:00<00:00, 13.29it/s, loss=1.07, v_num=35, mse_loss_step=0.705, mse_loss_epoch=0.705]"
     ]
    },
    {
     "name": "stderr",
     "output_type": "stream",
     "text": [
      "`Trainer.fit` stopped: `max_epochs=7` reached.\n"
     ]
    },
    {
     "name": "stdout",
     "output_type": "stream",
     "text": [
      "Epoch 6: 100%|██████████| 1/1 [00:00<00:00,  5.24it/s, loss=1.07, v_num=35, mse_loss_step=0.705, mse_loss_epoch=0.705]\n"
     ]
    },
    {
     "name": "stderr",
     "output_type": "stream",
     "text": [
      "GPU available: False, used: False\n",
      "TPU available: False, using: 0 TPU cores\n",
      "IPU available: False, using: 0 IPUs\n",
      "HPU available: False, using: 0 HPUs\n",
      "\n",
      "  | Name    | Type       | Params\n",
      "---------------------------------------\n",
      "0 | encoder | Sequential | 524 K \n",
      "1 | decoder | Sequential | 525 K \n",
      "---------------------------------------\n",
      "1.1 M     Trainable params\n",
      "0         Non-trainable params\n",
      "1.1 M     Total params\n",
      "4.200     Total estimated model params size (MB)\n"
     ]
    },
    {
     "name": "stdout",
     "output_type": "stream",
     "text": [
      "Epoch 6: 100%|██████████| 1/1 [00:00<00:00, 60.65it/s, loss=1.33, v_num=36, mse_loss_step=1.330, mse_loss_epoch=1.330]"
     ]
    },
    {
     "name": "stderr",
     "output_type": "stream",
     "text": [
      "`Trainer.fit` stopped: `max_epochs=7` reached.\n"
     ]
    },
    {
     "name": "stdout",
     "output_type": "stream",
     "text": [
      "Epoch 6: 100%|██████████| 1/1 [00:00<00:00, 16.35it/s, loss=1.33, v_num=36, mse_loss_step=1.330, mse_loss_epoch=1.330]"
     ]
    },
    {
     "name": "stderr",
     "output_type": "stream",
     "text": [
      "GPU available: False, used: False\n",
      "TPU available: False, using: 0 TPU cores\n",
      "IPU available: False, using: 0 IPUs\n",
      "HPU available: False, using: 0 HPUs\n"
     ]
    },
    {
     "name": "stdout",
     "output_type": "stream",
     "text": [
      "\n"
     ]
    },
    {
     "name": "stderr",
     "output_type": "stream",
     "text": [
      "\n",
      "  | Name    | Type       | Params\n",
      "---------------------------------------\n",
      "0 | encoder | Sequential | 32.8 K\n",
      "1 | decoder | Sequential | 33.3 K\n",
      "---------------------------------------\n",
      "66.1 K    Trainable params\n",
      "0         Non-trainable params\n",
      "66.1 K    Total params\n",
      "0.264     Total estimated model params size (MB)\n"
     ]
    },
    {
     "name": "stdout",
     "output_type": "stream",
     "text": [
      "Epoch 6: 100%|██████████| 1/1 [00:00<00:00, 26.54it/s, loss=1.38, v_num=37, mse_loss_step=1.380, mse_loss_epoch=1.380]"
     ]
    },
    {
     "name": "stderr",
     "output_type": "stream",
     "text": [
      "`Trainer.fit` stopped: `max_epochs=7` reached.\n"
     ]
    },
    {
     "name": "stdout",
     "output_type": "stream",
     "text": [
      "Epoch 6: 100%|██████████| 1/1 [00:00<00:00, 21.05it/s, loss=1.38, v_num=37, mse_loss_step=1.380, mse_loss_epoch=1.380]\n"
     ]
    },
    {
     "name": "stderr",
     "output_type": "stream",
     "text": [
      "GPU available: False, used: False\n",
      "TPU available: False, using: 0 TPU cores\n",
      "IPU available: False, using: 0 IPUs\n",
      "HPU available: False, using: 0 HPUs\n",
      "\n",
      "  | Name    | Type       | Params\n",
      "---------------------------------------\n",
      "0 | encoder | Sequential | 2.1 K \n",
      "1 | decoder | Sequential | 2.1 K \n",
      "---------------------------------------\n",
      "4.2 K     Trainable params\n",
      "0         Non-trainable params\n",
      "4.2 K     Total params\n",
      "0.017     Total estimated model params size (MB)\n"
     ]
    },
    {
     "name": "stdout",
     "output_type": "stream",
     "text": [
      "Epoch 6: 100%|██████████| 1/1 [00:00<00:00, 73.42it/s, loss=3.12, v_num=38, mse_loss_step=3.120, mse_loss_epoch=3.120] "
     ]
    },
    {
     "name": "stderr",
     "output_type": "stream",
     "text": [
      "`Trainer.fit` stopped: `max_epochs=7` reached.\n"
     ]
    },
    {
     "name": "stdout",
     "output_type": "stream",
     "text": [
      "Epoch 6: 100%|██████████| 1/1 [00:00<00:00, 43.08it/s, loss=3.12, v_num=38, mse_loss_step=3.120, mse_loss_epoch=3.120]\n"
     ]
    },
    {
     "name": "stderr",
     "output_type": "stream",
     "text": [
      "GPU available: False, used: False\n",
      "TPU available: False, using: 0 TPU cores\n",
      "IPU available: False, using: 0 IPUs\n",
      "HPU available: False, using: 0 HPUs\n",
      "\n",
      "  | Name    | Type       | Params\n",
      "---------------------------------------\n",
      "0 | encoder | Sequential | 66    \n",
      "1 | decoder | Sequential | 96    \n",
      "---------------------------------------\n",
      "162       Trainable params\n",
      "0         Non-trainable params\n",
      "162       Total params\n",
      "0.001     Total estimated model params size (MB)\n"
     ]
    },
    {
     "name": "stdout",
     "output_type": "stream",
     "text": [
      "Epoch 19: 100%|██████████| 1/1 [00:00<00:00, 68.14it/s, loss=2.24, v_num=39, mse_loss_step=2.230, mse_loss_epoch=2.230] "
     ]
    },
    {
     "name": "stderr",
     "output_type": "stream",
     "text": [
      "`Trainer.fit` stopped: `max_epochs=20` reached.\n"
     ]
    },
    {
     "name": "stdout",
     "output_type": "stream",
     "text": [
      "Epoch 19: 100%|██████████| 1/1 [00:00<00:00, 42.41it/s, loss=2.24, v_num=39, mse_loss_step=2.230, mse_loss_epoch=2.230]\n"
     ]
    },
    {
     "name": "stderr",
     "output_type": "stream",
     "text": [
      "100%|██████████| 1/1 [00:00<00:00, 651.39it/s]\n"
     ]
    }
   ],
   "source": [
    "class Autoencoder(pl.LightningModule):\n",
    "    def __init__(self, input_dim, hidden_dim,optim_name,islatent=False):\n",
    "        super(Autoencoder, self).__init__()\n",
    "        \n",
    "        self.encoder = nn.Sequential(\n",
    "            nn.Linear(input_dim, hidden_dim),\n",
    "        )\n",
    "        self.decoder = nn.Sequential(\n",
    "            nn.Linear(hidden_dim, input_dim),\n",
    "        )\n",
    "        self.optimizer_name = optim_name\n",
    "        \n",
    "        #initialize weights for encoder and decoder\n",
    "        self.encoder.apply(self.init_weights)\n",
    "        self.decoder.apply(self.init_weights)\n",
    "        \n",
    "        self.islatent = islatent\n",
    "        \n",
    "    #initialize weights using Xavier uniform distribution\n",
    "    def init_weights(self, module):\n",
    "            if isinstance(module, nn.Linear):\n",
    "                init.xavier_uniform_(module.weight)\n",
    "                init.constant_(module.bias, 0.0)\n",
    "    def predict(self, batch):\n",
    "        x,_ = batch\n",
    "        if self.islatent == False:\n",
    "            encoded = self.encoder(x)\n",
    "            decoded = self.decoder(encoded)\n",
    "        else:\n",
    "            encoded = self.encoder(x)\n",
    "        \n",
    "            for_sin = encoded[:, 0] / torch.sqrt(torch.square(encoded[:, 0]) + torch.square(encoded[:, 1]))\n",
    "            for_cos = encoded[:, 1] / torch.sqrt(torch.square(encoded[:, 0]) + torch.square(encoded[:, 1]))\n",
    "        return for_sin,for_cos\n",
    "    \n",
    "    def forward(self, batch):\n",
    "        x,_ = batch\n",
    "        if self.islatent == False:\n",
    "            encoded = self.encoder(x)\n",
    "            decoded = self.decoder(encoded)\n",
    "        else:\n",
    "            encoded = self.encoder(x)\n",
    "        \n",
    "            for_sin = encoded[:, 0] / torch.sqrt(torch.square(encoded[:, 0]) + torch.square(encoded[:, 1]))\n",
    "            for_cos = encoded[:, 1] / torch.sqrt(torch.square(encoded[:, 0]) + torch.square(encoded[:, 1]))\n",
    "    \n",
    "            decoded = self.decoder(torch.stack([for_sin, for_cos], dim=1))\n",
    "            \n",
    "        return decoded\n",
    "\n",
    "    def training_step(self, batch, batch_idx):\n",
    "        x, _ = batch\n",
    "        decoded = self(batch)\n",
    "        activations = []\n",
    "        activations.append(decoded.clone().detach()) \n",
    "        mse_loss = torch.mean((x - decoded) ** 2)\n",
    "        \n",
    "        self.log('mse_loss', mse_loss, on_epoch=True, prog_bar=True, logger=True)\n",
    "        return mse_loss\n",
    "        \n",
    "    def configure_optimizers(self):\n",
    "        if self.optimizer_name == 'SGD':\n",
    "            optimizer = optim.SGD(self.parameters(), lr=0.1, momentum=0.85)\n",
    "        elif self.optimizer_name == 'Adam':\n",
    "            optimizer = optim.Adam(self.parameters(), lr=0.001)\n",
    "        elif self.optimizer_name == 'Dadapt':\n",
    "            optimizer = dadaptation.DAdaptSGD(self.parameters(),lr=1.)\n",
    "        else:\n",
    "            raise ValueError(f\"Unsupported optimizer: {self.optimizer_name}\")\n",
    "        return optimizer\n",
    "\n",
    "\n",
    "dataloader = DataLoader(dataset, batch_size=batch_size, shuffle=True)\n",
    "\n",
    "# Train the first Autoencoder\n",
    "data1_tensor = torch.tensor(data1, dtype=torch.float32)  \n",
    "model1 = Autoencoder(input_dim=data1.shape[1], hidden_dim=2048,optim_name='SGD')\n",
    "trainer1 = pl.Trainer(max_epochs=7)\n",
    "trainer1.fit(model1, dataloader)\n",
    "\n",
    "encoded_data1 = model1.encoder(data1_tensor).detach()\n",
    "\n",
    "# Train the second Autoencoder\n",
    "model2 = Autoencoder(input_dim=2048, hidden_dim=1024,optim_name='SGD')\n",
    "dataset_encoded = TensorDataset(encoded_data1, encoded_data1)\n",
    "dataloader_encoded = DataLoader(dataset_encoded, batch_size=batch_size, shuffle=True)\n",
    "\n",
    "trainer2 = pl.Trainer(max_epochs=7)\n",
    "trainer2.fit(model2, dataloader_encoded)\n",
    "\n",
    "encoded_data2 = model2.encoder(encoded_data1).detach()\n",
    "\n",
    "# Train the third Autoencoder\n",
    "model3 = Autoencoder(input_dim=1024, hidden_dim=512,optim_name='Dadapt')\n",
    "dataset_encoded2 = TensorDataset(encoded_data2, encoded_data2)\n",
    "dataloader_encoded2 = DataLoader(dataset_encoded2, batch_size=batch_size, shuffle=True)\n",
    "\n",
    "trainer3 = pl.Trainer(max_epochs=7)\n",
    "trainer3.fit(model3, dataloader_encoded2)\n",
    "\n",
    "encoded_data3 = model3.encoder(encoded_data2).detach()\n",
    "\n",
    "# Train the fourth Autoencoder\n",
    "model4 = Autoencoder(input_dim=512, hidden_dim=64,optim_name='Dadapt')\n",
    "dataset_encoded3 = TensorDataset(encoded_data3, encoded_data3)\n",
    "dataloader_encoded3 = DataLoader(dataset_encoded3, batch_size=batch_size, shuffle=True)\n",
    "\n",
    "trainer4 = pl.Trainer(max_epochs=7)\n",
    "trainer4.fit(model4, dataloader_encoded3)\n",
    "\n",
    "encoded_data4 = model4.encoder(encoded_data3).detach()\n",
    "\n",
    "# Train the fifth Autoencoder\n",
    "model5 = Autoencoder(input_dim=64, hidden_dim=32,optim_name='Dadapt')\n",
    "dataset_encoded4 = TensorDataset(encoded_data4, encoded_data4)\n",
    "dataloader_encoded4 = DataLoader(dataset_encoded4, batch_size=batch_size, shuffle=True)\n",
    "\n",
    "trainer5 = pl.Trainer(max_epochs=7)\n",
    "trainer5.fit(model5, dataloader_encoded4)\n",
    "\n",
    "encoded_data5 = model5.encoder(encoded_data4).detach()\n",
    "\n",
    "# Train the sixth Autoencoder\n",
    "model6 = Autoencoder(input_dim=32, hidden_dim=2,optim_name='Dadapt',islatent=True)\n",
    "dataset_encoded5 = TensorDataset(encoded_data5, encoded_data5)\n",
    "dataloader_encoded5 = DataLoader(dataset_encoded5, batch_size=batch_size, shuffle=True)\n",
    "\n",
    "trainer6 = pl.Trainer(max_epochs=20)\n",
    "trainer6.fit(model6, dataloader_encoded5)\n",
    "\n",
    "test_loader_ = DataLoader(dataset_encoded5, batch_size=16\n",
    "                          , shuffle=False)\n",
    "\n",
    "#predict initial angular phases\n",
    "with torch.no_grad():\n",
    "    for batch in tqdm(test_loader_):\n",
    "        sin, cos= model6.predict(batch)\n",
    "\n",
    "pred_phases = torch.atan2(sin, cos) * 180. / math.pi #convert to degrees\n",
    "angles = torch.where(pred_phases <= 0, 360 + pred_phases, pred_phases) # the range be (0-360)\n",
    "\n",
    "\n"
   ]
  },
  {
   "cell_type": "code",
   "execution_count": 6,
   "id": "d1d049db-d273-4a1e-86c6-33374680a050",
   "metadata": {},
   "outputs": [
    {
     "name": "stdout",
     "output_type": "stream",
     "text": [
      "tensor([358.0417, 357.9300, 159.8286, 150.7117, 201.6608, 172.8694, 254.8886,\n",
      "          3.7851, 309.1533,  52.6974, 131.2830, 136.3634, 187.7247, 209.6694,\n",
      "        242.2776, 198.3309])\n"
     ]
    }
   ],
   "source": [
    "print (angles)"
   ]
  },
  {
   "cell_type": "markdown",
   "id": "5690fdb3-4509-4e59-9946-2e0c10c531fc",
   "metadata": {},
   "source": [
    "# Find Initial Geometrical Information"
   ]
  },
  {
   "cell_type": "code",
   "execution_count": 7,
   "id": "e413a79d-d050-4d3e-adb5-28d6c4dee9cf",
   "metadata": {},
   "outputs": [],
   "source": [
    "import cosinor\n",
    "amp = np.empty(data1.shape[1])\n",
    "mesor = np.empty(data1.shape[1])\n",
    "acrophase = np.empty(data1.shape[1])\n",
    "\n",
    "#fit proteins to a cosine curve using inital phases\n",
    "for i in range(datafeat.shape[1]):\n",
    " \n",
    "        amp[i] = cosinor.fit_me(angles, data1[:,i],\n",
    "                        n_components=1,period=360,plot=False,return_model=True)[2]\n",
    "        mesor[i] = cosinor.fit_me(angles, data1[:,i],\n",
    "                        n_components=1,period=360,plot=False,return_model=True)[3]\n",
    "        acrophase[i] = cosinor.fit_me(angles, data1[:,i],\n",
    "                        n_components=1,period=360,plot=False,return_model=True)[4]\n",
    "amp = torch.tensor(amp,requires_grad=False)\n",
    "mesor = torch.tensor(mesor,requires_grad=False)\n",
    "acrophase = torch.tensor(acrophase,requires_grad=False)\n"
   ]
  },
  {
   "cell_type": "code",
   "execution_count": 8,
   "id": "fb5d1dd4-f090-41b4-a9e5-ac0f3c639cd6",
   "metadata": {},
   "outputs": [],
   "source": [
    "bs = 16\n",
    "pi = 3.14"
   ]
  },
  {
   "cell_type": "markdown",
   "id": "8dc84cf4-8518-4027-a251-f2a2c03f61ab",
   "metadata": {},
   "source": [
    "# Fine tuning"
   ]
  },
  {
   "cell_type": "code",
   "execution_count": 9,
   "id": "87a4ca2b-f3ea-4896-88d9-e55bcafb4e35",
   "metadata": {},
   "outputs": [
    {
     "name": "stderr",
     "output_type": "stream",
     "text": [
      "GPU available: False, used: False\n",
      "TPU available: False, using: 0 TPU cores\n",
      "IPU available: False, using: 0 IPUs\n",
      "HPU available: False, using: 0 HPUs\n",
      "\n",
      "  | Name   | Type       | Params\n",
      "--------------------------------------\n",
      "0 | layer1 | Sequential | 4.8 M \n",
      "1 | layer2 | Sequential | 2.1 M \n",
      "2 | layer3 | Sequential | 524 K \n",
      "3 | layer4 | Sequential | 32.8 K\n",
      "4 | layer5 | Sequential | 2.1 K \n",
      "5 | layer6 | Sequential | 66    \n",
      "--------------------------------------\n",
      "7.5 M     Trainable params\n",
      "0         Non-trainable params\n",
      "7.5 M     Total params\n",
      "29.822    Total estimated model params size (MB)\n"
     ]
    },
    {
     "name": "stdout",
     "output_type": "stream",
     "text": [
      "Epoch 19: 100%|██████████| 1/1 [00:00<00:00,  4.69it/s, loss=0.0672, v_num=40, fit_loss_step=0.659, fit_loss_epoch=0.660]Final proteins to remove (based on amplitude threshold): tensor([], dtype=torch.int64)\n",
      "Epoch 19: 100%|██████████| 1/1 [00:00<00:00,  4.60it/s, loss=0.0672, v_num=40, fit_loss_step=0.659, fit_loss_epoch=0.659]"
     ]
    },
    {
     "name": "stderr",
     "output_type": "stream",
     "text": [
      "`Trainer.fit` stopped: `max_epochs=20` reached.\n"
     ]
    },
    {
     "name": "stdout",
     "output_type": "stream",
     "text": [
      "Epoch 19: 100%|██████████| 1/1 [00:00<00:00,  1.74it/s, loss=0.0672, v_num=40, fit_loss_step=0.659, fit_loss_epoch=0.659]\n"
     ]
    }
   ],
   "source": [
    "class DeepNeuralNet(pl.LightningModule):\n",
    "    def __init__(self, input_dim):\n",
    "        super(DeepNeuralNet, self).__init__()\n",
    "        \n",
    "        self.input_dim = input_dim  #number of input features\n",
    "        self.initialize_layers(input_dim) #initialize layers\n",
    "        \n",
    "        self.L = nn.Parameter(mesor)  \n",
    "        self.alpha = nn.Parameter(acrophase)  \n",
    "        self.A = nn.Parameter(amp)  \n",
    "        self.period = nn.Parameter(torch.zeros(self.A.shape)+2*pi)\n",
    "        self.outliers_per_protein = torch.zeros(self.input_dim)  # tracks number of times each protein is an outlier\n",
    "        self.outlier_threshold = 2  # outlier detection threshold\n",
    "        self.protein_epoch_threshold = 20  # remove proteins flagged as outliers for 20 epochs\n",
    "        self.dataset = dataset\n",
    "        self.outliers_per_sample = torch.zeros(len(self.dataset))  # track sample outliers\n",
    "        self.sample_epoch_threshold = 20  \n",
    "\n",
    "\n",
    "    def initialize_layers(self, input_dim):\n",
    "        self.layer1 = nn.Sequential(nn.Linear(input_dim, 2048))\n",
    "        self.layer2 = nn.Sequential(nn.Linear(2048, 1024))\n",
    "        self.layer3 = nn.Sequential(nn.Linear(1024, 512))\n",
    "        self.layer4 = nn.Sequential(nn.Linear(512, 64))\n",
    "        self.layer5 = nn.Sequential(nn.Linear(64, 32))\n",
    "        self.layer6 = nn.Sequential(nn.Linear(32, 2))\n",
    "\n",
    "    def init_weights(self, module):\n",
    "        if isinstance(module, nn.Linear):\n",
    "            nn.init.xavier_uniform_(module.weight)\n",
    "            nn.init.constant_(module.bias, 0.0)\n",
    "\n",
    "    def fit_loss(self, x, for_sin, for_cos):\n",
    "        pi_on_180 = 0.017453292519943295 \n",
    "        a = torch.atan2(for_sin, for_cos) * 180. / math.pi\n",
    "        t = torch.where(a <= 0, 360 + a, a) * pi_on_180\n",
    "\n",
    "        Y = self.L.unsqueeze(0) + self.A.unsqueeze(0) * torch.cos((2*pi/self.period)*t.unsqueeze(1) + self.alpha.unsqueeze(0))\n",
    "\n",
    "        residuals1 = torch.abs(x - Y)\n",
    "        # mean absolute error (per sample)\n",
    "        fit_loss_per_sample = torch.mean(residuals1, axis=1)\n",
    "\n",
    "        total_loss = torch.mean(fit_loss_per_sample)\n",
    "        return total_loss\n",
    "\n",
    "    def training_step(self, batch, batch_idx):\n",
    "        x, _ = batch\n",
    "\n",
    "        # pass through layers\n",
    "        layer1 = self.layer1(x)     \n",
    "        layer2 = self.layer2(layer1)\n",
    "        layer3 = self.layer3(layer2)     \n",
    "        layer4 = self.layer4(layer3)     \n",
    "        layer5 = self.layer5(layer4)\n",
    "        layer6 = self.layer6(layer5)\n",
    "\n",
    "        # calculate sine and cosine\n",
    "        for_sin = layer6[:, 0] / torch.sqrt(torch.square(layer6[:, 0]) + torch.square(layer6[:, 1]))\n",
    "        for_cos = layer6[:, 1] / torch.sqrt(torch.square(layer6[:, 0]) + torch.square(layer6[:, 1]))\n",
    "\n",
    "        fit_loss = self.fit_loss(x, for_sin, for_cos)\n",
    "        loss = 1e-1 * fit_loss\n",
    "    \n",
    "        self.log('fit_loss', fit_loss, on_epoch=True, prog_bar=True, logger=True)\n",
    "\n",
    "        # calculate residuals and outliers\n",
    "        self.calculate_outliers(x, for_sin, for_cos)\n",
    "\n",
    "        return loss\n",
    "\n",
    "\n",
    "    def calculate_outliers(self, x, for_sin, for_cos):\n",
    "        \n",
    "        a = torch.atan2(for_sin, for_cos) * 180. / math.pi\n",
    "        t = torch.where(a <= 0, 360 + a, a) * 0.017453292519943295\n",
    "        \n",
    "        Y = self.L.unsqueeze(0) + self.A.unsqueeze(0) * torch.cos((2*pi/self.period)*t.unsqueeze(1) + self.alpha.unsqueeze(0))\n",
    "        \n",
    "        residuals = (x - Y)\n",
    "        \n",
    "        mean_residuals = torch.mean(residuals, axis=0)\n",
    "        std_proteins = torch.std(mean_residuals)\n",
    "        mean_proteins = torch.mean(mean_residuals)\n",
    "\n",
    "        protein_outliers = torch.abs(mean_residuals - mean_proteins) > 2 * std_proteins\n",
    "        self.outliers_per_protein += protein_outliers.int()\n",
    "        \n",
    "    def training_epoch_end(self, outputs):\n",
    "        if self.current_epoch == 19:\n",
    "            proteins_to_remove = torch.where(self.outliers_per_protein >= self.protein_epoch_threshold)[0]\n",
    "            if len(proteins_to_remove) > 0:\n",
    "                self.report_outlier_proteins(proteins_to_remove)\n",
    "\n",
    "\n",
    "    def report_outlier_proteins(self, proteins_to_remove):\n",
    "        low_amplitude_proteins = self.A[proteins_to_remove] < (self.A.mean()+self.A.std())\n",
    "        self.final_proteins_to_remove = proteins_to_remove[low_amplitude_proteins]\n",
    "        print(f\"Final proteins to remove (based on amplitude threshold): {self.final_proteins_to_remove}\")\n",
    "\n",
    "\n",
    "    def predict(self, batch):\n",
    "        x, _ = batch\n",
    "        self.eval()\n",
    "        layer1 = self.layer1(x)\n",
    "        layer2 = self.layer2(layer1)\n",
    "        layer3 = self.layer3(layer2)\n",
    "        layer4 = self.layer4(layer3)\n",
    "        layer5 = self.layer5(layer4)\n",
    "        layer6 = self.layer6(layer5)\n",
    "\n",
    "        for_sin = (layer6[:, 0] / torch.sqrt(torch.square(layer6[:, 0]) + torch.square(layer6[:, 1]))).detach()\n",
    "        for_cos = (layer6[:, 1] / torch.sqrt(torch.square(layer6[:, 0]) + torch.square(layer6[:, 1]))).detach()\n",
    "        \n",
    "        return for_sin, for_cos\n",
    " \n",
    "    def train_dataloader(self):\n",
    "        return DataLoader(self.dataset, batch_size=bs, shuffle=True, drop_last=True)\n",
    "\n",
    "    def configure_optimizers(self):\n",
    "        return dadaptation.DAdaptSGD(self.parameters(), lr=1.)\n",
    "\n",
    "# Transfer weights\n",
    "deep = DeepNeuralNet(input_dim=data1.shape[1])\n",
    "deep.layer1.load_state_dict(model1.encoder.state_dict())\n",
    "deep.layer2.load_state_dict(model2.encoder.state_dict())\n",
    "deep.layer3.load_state_dict(model3.encoder.state_dict())\n",
    "deep.layer4.load_state_dict(model4.encoder.state_dict())\n",
    "deep.layer5.load_state_dict(model5.encoder.state_dict())\n",
    "deep.layer6.load_state_dict(model6.encoder.state_dict())\n",
    "\n",
    "trainer_da = pl.Trainer(max_epochs=20)\n",
    "trainer_da.fit(deep)\n"
   ]
  },
  {
   "cell_type": "code",
   "execution_count": 10,
   "id": "dfe39e40-696e-4b4a-b7c7-d02d0b8157cf",
   "metadata": {},
   "outputs": [],
   "source": [
    "excluded_proteins = deep.final_proteins_to_remove\n"
   ]
  },
  {
   "cell_type": "code",
   "execution_count": 11,
   "id": "16ffe2c2-6d48-4004-937c-dc93baa0766a",
   "metadata": {},
   "outputs": [
    {
     "name": "stderr",
     "output_type": "stream",
     "text": [
      "GPU available: False, used: False\n",
      "TPU available: False, using: 0 TPU cores\n",
      "IPU available: False, using: 0 IPUs\n",
      "HPU available: False, using: 0 HPUs\n",
      "\n",
      "  | Name   | Type       | Params\n",
      "--------------------------------------\n",
      "0 | layer1 | Sequential | 1.2 M \n",
      "1 | layer2 | Sequential | 131 K \n",
      "2 | layer3 | Sequential | 32.9 K\n",
      "3 | layer4 | Sequential | 8.3 K \n",
      "4 | layer5 | Sequential | 2.1 K \n",
      "5 | layer6 | Sequential | 66    \n",
      "--------------------------------------\n",
      "1.4 M     Trainable params\n",
      "0         Non-trainable params\n",
      "1.4 M     Total params\n",
      "5.524     Total estimated model params size (MB)\n"
     ]
    },
    {
     "name": "stdout",
     "output_type": "stream",
     "text": [
      "Epoch 199: 100%|██████████| 1/1 [00:00<00:00, 10.99it/s, loss=0.0648, v_num=41, fit_loss_step=0.648, fit_loss_epoch=0.648]"
     ]
    },
    {
     "name": "stderr",
     "output_type": "stream",
     "text": [
      "`Trainer.fit` stopped: `max_epochs=200` reached.\n"
     ]
    },
    {
     "name": "stdout",
     "output_type": "stream",
     "text": [
      "Epoch 199: 100%|██████████| 1/1 [00:00<00:00,  6.78it/s, loss=0.0648, v_num=41, fit_loss_step=0.648, fit_loss_epoch=0.648]\n"
     ]
    },
    {
     "name": "stderr",
     "output_type": "stream",
     "text": [
      "Evaluating: 100%|██████████| 1/1 [00:00<00:00, 44.53it/s]"
     ]
    },
    {
     "name": "stdout",
     "output_type": "stream",
     "text": [
      "Angular Predictions (0-360): [336.74487, 56.96363, 127.28432, 139.12025, 193.2656, 222.71689, 295.81207, 354.10675, 309.98816, 39.229473, 125.01475, 141.68784, 195.83324, 204.29784, 223.60829, 243.21133]\n"
     ]
    },
    {
     "name": "stderr",
     "output_type": "stream",
     "text": [
      "\n"
     ]
    }
   ],
   "source": [
    "#filter out the excluded proteins from data1 and the parameter tensors\n",
    "keep_mask = np.ones(data1.shape[1], dtype=bool)\n",
    "keep_mask[excluded_proteins] = False\n",
    "\n",
    "filtered_data1 = data1[:, keep_mask]\n",
    "\n",
    "filtered_amp = amp[keep_mask]\n",
    "filtered_mesor = mesor[keep_mask]\n",
    "filtered_alpha = acrophase[keep_mask]\n",
    "class DeepNeuralNet(pl.LightningModule):\n",
    "    def __init__(self, input_dim):\n",
    "        super(DeepNeuralNet, self).__init__()\n",
    "        self.layer1 = nn.Sequential(nn.Linear(input_dim, 512))\n",
    "        self.layer2 = nn.Sequential(nn.Linear(512, 256))\n",
    "        self.layer3 = nn.Sequential(nn.Linear(256, 128))\n",
    "        self.layer4 = nn.Sequential(nn.Linear(128, 64))\n",
    "        self.layer5 = nn.Sequential(nn.Linear(64, 32))\n",
    "        self.layer6 = nn.Sequential(nn.Linear(32, 2))\n",
    "\n",
    "        # set filtered parameters\n",
    "        self.L = nn.Parameter(filtered_mesor)\n",
    "        self.alpha = nn.Parameter(filtered_alpha)\n",
    "        self.A = nn.Parameter(filtered_amp)\n",
    "        self.period = nn.Parameter(torch.zeros(self.A.shape)+2*pi)\n",
    "        \n",
    "        # initialize weights\n",
    "        self.apply(self.init_weights)\n",
    "        self.dataset = dataset\n",
    "\n",
    "    def init_weights(self, module):\n",
    "        if isinstance(module, nn.Linear):\n",
    "            init.xavier_uniform_(module.weight)\n",
    "            init.constant_(module.bias, 0.0)\n",
    "\n",
    "    def predict(self, batch):\n",
    "        x, _ = batch\n",
    "        self.eval()\n",
    "        layer1 = self.layer1(x)\n",
    "        layer2 = self.layer2(layer1)\n",
    "        layer3 = self.layer3(layer2)\n",
    "        layer4 = self.layer4(layer3)\n",
    "        layer5 = self.layer5(layer4)\n",
    "        layer6 = self.layer6(layer5)\n",
    "\n",
    "        for_sin = (layer6[:, 0] / torch.sqrt(torch.square(layer6[:, 0]) + torch.square(layer6[:, 1]))).detach()\n",
    "        for_cos = (layer6[:, 1] / torch.sqrt(torch.square(layer6[:, 0]) + torch.square(layer6[:, 1]))).detach()\n",
    "        \n",
    "        return for_sin, for_cos\n",
    "\n",
    "    def fit_loss(self, x, for_sin, for_cos):\n",
    "        pi_on_180 = 0.017453292519943295\n",
    "        a = torch.atan2(for_sin, for_cos) * 180. / math.pi\n",
    "        t = torch.where(a <= 0, 360 + a, a) * pi_on_180\n",
    "        Y = self.L.unsqueeze(0) + self.A.unsqueeze(0) * torch.cos(((2*pi)/self.period.unsqueeze(0))*t.unsqueeze(1) + self.alpha.unsqueeze(0))\n",
    "        fit_loss_ = torch.mean(torch.mean(torch.abs(x - Y), axis=1))\n",
    "        return fit_loss_\n",
    "\n",
    "    def training_step(self, batch, batch_idx):\n",
    "        x, _ = batch\n",
    "        layer1 = self.layer1(x)\n",
    "        layer2 = self.layer2(layer1)\n",
    "        layer3 = self.layer3(layer2)\n",
    "        layer4 = self.layer4(layer3)\n",
    "        layer5 = self.layer5(layer4)\n",
    "        layer6 = self.layer6(layer5)\n",
    "\n",
    "        for_sin = layer6[:, 0] / torch.sqrt(torch.square(layer6[:, 0]) + torch.square(layer6[:, 1]))\n",
    "        for_cos = layer6[:, 1] / torch.sqrt(torch.square(layer6[:, 0]) + torch.square(layer6[:, 1]))\n",
    "\n",
    "        fit_loss = self.fit_loss(x, for_sin, for_cos)\n",
    "        loss = 1e-1 * fit_loss\n",
    "        self.log('fit_loss', fit_loss, on_epoch=True, prog_bar=True, logger=True)\n",
    "        return loss\n",
    "\n",
    "    def evaluate(self, dataset, batch_size=16):\n",
    "        dataloader = DataLoader(dataset, batch_size=batch_size)\n",
    "        angular_predictions = []\n",
    "\n",
    "        with torch.no_grad():\n",
    "            for batch in tqdm(dataloader, desc=\"Evaluating\"):\n",
    "                x, _ = batch\n",
    "                x = x[:, ]\n",
    "                sin, cos = self.predict((x, _))\n",
    "                predicted_phases = torch.atan2(sin, cos) * 180. / math.pi\n",
    "                angulars = torch.where(predicted_phases <= 0, 360 + predicted_phases, predicted_phases)\n",
    "                angular_predictions.extend(angulars.cpu().numpy())\n",
    "        \n",
    "        return angular_predictions\n",
    "\n",
    "    def train_dataloader(self):\n",
    "        return DataLoader(self.dataset, batch_size=bs, shuffle=True, drop_last=True)\n",
    "\n",
    "    def configure_optimizers(self):\n",
    "        return dadaptation.DAdaptSGD(self.parameters(), lr=1.)\n",
    "\n",
    "\n",
    "filtered_deep = DeepNeuralNet(input_dim=filtered_data1.shape[1])\n",
    "filtered_dataset = TensorDataset(\n",
    "    torch.tensor(filtered_data1, dtype=torch.float32),\n",
    "    torch.tensor(filtered_data1, dtype=torch.float32)\n",
    ")\n",
    "filtered_dataloader = DataLoader(filtered_dataset, batch_size=bs, shuffle=True)\n",
    "\n",
    "trainer = pl.Trainer(max_epochs=200)\n",
    "trainer.fit(filtered_deep, filtered_dataloader)\n",
    "\n",
    "# Evaluation after training\n",
    "angular_predictions = filtered_deep.evaluate(filtered_dataset)\n",
    "print(\"Angular Predictions (0-360):\", angular_predictions)\n"
   ]
  },
  {
   "cell_type": "code",
   "execution_count": 12,
   "id": "53fabdf0-9ed7-4562-853a-065f8683d2eb",
   "metadata": {},
   "outputs": [],
   "source": [
    "#labels\n",
    "x_hours= np.arange(0,48, 3)%24\n",
    "\n",
    "#our predictions\n",
    "angulars1 = np.array(angular_predictions)*24/360\n"
   ]
  },
  {
   "cell_type": "code",
   "execution_count": 13,
   "id": "d43c6bd5-722c-4190-8546-4c5cbbce8167",
   "metadata": {},
   "outputs": [],
   "source": [
    "def tolplot(trueHr, predHr, add=True, col=1):\n",
    "    plt.figure(figsize=(8, 8))  \n",
    "    plt.rcParams.update({'font.size': 16})  \n",
    "\n",
    "    predTimes = predHr \n",
    "    trueTimes = trueHr \n",
    "    hrerr = np.abs(predTimes - trueTimes)\n",
    "    hrerr = np.minimum(hrerr, 24 - hrerr)\n",
    "    hrsoff = np.linspace(0, 12, num=12)\n",
    "    fracacc = np.array([100 * np.sum(np.abs(hrerr) > hrtol) / len(hrerr) for hrtol in hrsoff])\n",
    "\n",
    "    if not add:\n",
    "        col = 'blue'\n",
    "        plt.plot(hrsoff, 100 - fracacc, color='blue', linewidth=4)\n",
    "        plt.xlim(0, 12)\n",
    "        plt.xlabel(\"Correct to within (hrs)\", fontsize=30)\n",
    "        plt.ylabel(\"% Correct\", fontsize=30)\n",
    "        plt.xticks(np.arange(0, 13, step=1), fontsize=18)  \n",
    "        plt.yticks(np.arange(0, 101, step=10), fontsize=18)\n",
    "        plt.grid(True, linestyle='--', alpha=0.5)\n",
    "    else:\n",
    "        plt.plot(hrsoff, 100 - fracacc, color=col, linewidth=5)\n",
    "    plt.plot([0, 12], [0, 100], color='gray', linestyle='--', linewidth=2)\n",
    "\n",
    "    norm_fracacc = (100 - fracacc) / 100\n",
    "    norm_hrsoff = hrsoff / 12\n",
    "    auc = np.sum(norm_fracacc[1:] * np.diff(norm_hrsoff))\n",
    "    plt.text(7, 20, f\"nAUC={auc:.2f}\", fontsize=25, fontweight='bold')\n",
    "\n",
    "    plt.legend(fontsize=14)\n",
    "    plt.savefig(\"ours_wang.eps\", bbox_inches='tight', dpi=300)  \n",
    "    plt.show()\n",
    "\n",
    "    return True\n"
   ]
  },
  {
   "cell_type": "code",
   "execution_count": 14,
   "id": "7ef05479-f48b-4f42-96a1-0a31b07c76fe",
   "metadata": {},
   "outputs": [
    {
     "name": "stderr",
     "output_type": "stream",
     "text": [
      "No handles with labels found to put in legend.\n",
      "The PostScript backend does not support transparency; partially transparent artists will be rendered opaque.\n",
      "The PostScript backend does not support transparency; partially transparent artists will be rendered opaque.\n",
      "The PostScript backend does not support transparency; partially transparent artists will be rendered opaque.\n",
      "The PostScript backend does not support transparency; partially transparent artists will be rendered opaque.\n",
      "The PostScript backend does not support transparency; partially transparent artists will be rendered opaque.\n",
      "The PostScript backend does not support transparency; partially transparent artists will be rendered opaque.\n",
      "The PostScript backend does not support transparency; partially transparent artists will be rendered opaque.\n",
      "The PostScript backend does not support transparency; partially transparent artists will be rendered opaque.\n",
      "The PostScript backend does not support transparency; partially transparent artists will be rendered opaque.\n",
      "The PostScript backend does not support transparency; partially transparent artists will be rendered opaque.\n",
      "The PostScript backend does not support transparency; partially transparent artists will be rendered opaque.\n",
      "The PostScript backend does not support transparency; partially transparent artists will be rendered opaque.\n",
      "The PostScript backend does not support transparency; partially transparent artists will be rendered opaque.\n",
      "The PostScript backend does not support transparency; partially transparent artists will be rendered opaque.\n",
      "The PostScript backend does not support transparency; partially transparent artists will be rendered opaque.\n",
      "The PostScript backend does not support transparency; partially transparent artists will be rendered opaque.\n",
      "The PostScript backend does not support transparency; partially transparent artists will be rendered opaque.\n",
      "The PostScript backend does not support transparency; partially transparent artists will be rendered opaque.\n",
      "The PostScript backend does not support transparency; partially transparent artists will be rendered opaque.\n",
      "The PostScript backend does not support transparency; partially transparent artists will be rendered opaque.\n",
      "The PostScript backend does not support transparency; partially transparent artists will be rendered opaque.\n",
      "The PostScript backend does not support transparency; partially transparent artists will be rendered opaque.\n",
      "The PostScript backend does not support transparency; partially transparent artists will be rendered opaque.\n",
      "The PostScript backend does not support transparency; partially transparent artists will be rendered opaque.\n",
      "The PostScript backend does not support transparency; partially transparent artists will be rendered opaque.\n",
      "The PostScript backend does not support transparency; partially transparent artists will be rendered opaque.\n"
     ]
    },
    {
     "data": {
      "image/png": "[encoded data removed]",
      "text/plain": [
       "<Figure size 576x576 with 1 Axes>"
      ]
     },
     "metadata": {},
     "output_type": "display_data"
    },
    {
     "data": {
      "text/plain": [
       "True"
      ]
     },
     "execution_count": 14,
     "metadata": {},
     "output_type": "execute_result"
    }
   ],
   "source": [
    "import seaborn as sns\n",
    "sns.set()\n",
    "tolplot(x_hours, angulars1, add=False, col=1)"
   ]
  },
  {
   "cell_type": "code",
   "execution_count": null,
   "id": "26cc4fd4-db67-4ccd-801c-1b7c403369a0",
   "metadata": {},
   "outputs": [],
   "source": []
  }
 ],
 "metadata": {
  "kernelspec": {
   "display_name": "Python 3 (ipykernel)",
   "language": "python",
   "name": "python3"
  },
  "language_info": {
   "codemirror_mode": {
    "name": "ipython",
    "version": 3
   },
   "file_extension": ".py",
   "mimetype": "text/x-python",
   "name": "python",
   "nbconvert_exporter": "python",
   "pygments_lexer": "ipython3",
   "version": "3.7.8"
  },
  "widgets": {
   "application/vnd.jupyter.widget-state+json": {
    "state": {},
    "version_major": 2,
    "version_minor": 0
   }
  }
 },
 "nbformat": 4,
 "nbformat_minor": 5
}
